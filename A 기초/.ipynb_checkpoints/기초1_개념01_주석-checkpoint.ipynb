{
 "cells": [
  {
   "cell_type": "code",
   "execution_count": 3,
   "id": "a4ad3aa9",
   "metadata": {},
   "outputs": [],
   "source": [
    "# 한줄 주석 "
   ]
  },
  {
   "cell_type": "code",
   "execution_count": 4,
   "id": "665b2c76",
   "metadata": {},
   "outputs": [
    {
     "data": {
      "text/plain": [
       "'\\n여러줄 주석1\\n'"
      ]
     },
     "execution_count": 4,
     "metadata": {},
     "output_type": "execute_result"
    }
   ],
   "source": [
    "'''\n",
    "여러줄 주석1\n",
    "'''"
   ]
  },
  {
   "cell_type": "code",
   "execution_count": 5,
   "id": "b4f2d950",
   "metadata": {},
   "outputs": [
    {
     "data": {
      "text/plain": [
       "'\\n여러줄 주석2\\n'"
      ]
     },
     "execution_count": 5,
     "metadata": {},
     "output_type": "execute_result"
    }
   ],
   "source": [
    "\"\"\"\n",
    "여러줄 주석2\n",
    "\"\"\""
   ]
  },
  {
   "cell_type": "code",
   "execution_count": 6,
   "id": "89cf9765",
   "metadata": {},
   "outputs": [
    {
     "data": {
      "text/plain": [
       "'\\n        동해 물과 백두산이 마르고 닳도록\\n        하느님이 보우하사 우리나라 만세.\\n        무궁화 삼천리 화려 강산\\n        대한 사람, 대한으로 길이 보전하세.\\t\\n'"
      ]
     },
     "execution_count": 6,
     "metadata": {},
     "output_type": "execute_result"
    }
   ],
   "source": [
    "'''\n",
    "        동해 물과 백두산이 마르고 닳도록\n",
    "        하느님이 보우하사 우리나라 만세.\n",
    "        무궁화 삼천리 화려 강산\n",
    "        대한 사람, 대한으로 길이 보전하세.\t\n",
    "'''\n"
   ]
  },
  {
   "cell_type": "code",
   "execution_count": 8,
   "id": "cd341b75",
   "metadata": {},
   "outputs": [
    {
     "ename": "SyntaxError",
     "evalue": "invalid syntax (<ipython-input-8-60eeb170d90d>, line 1)",
     "output_type": "error",
     "traceback": [
      "\u001b[1;36m  File \u001b[1;32m\"<ipython-input-8-60eeb170d90d>\"\u001b[1;36m, line \u001b[1;32m1\u001b[0m\n\u001b[1;33m    동해 물과 백두산이 마르고 닳도록\u001b[0m\n\u001b[1;37m       ^\u001b[0m\n\u001b[1;31mSyntaxError\u001b[0m\u001b[1;31m:\u001b[0m invalid syntax\n"
     ]
    }
   ],
   "source": [
    "동해 물과 백두산이 마르고 닳도록\n",
    "        하느님이 보우하사 우리나라 만세.\n",
    "        무궁화 삼천리 화려 강산\n",
    "        대한 사람, 대한으로 길이 보전하세.\t\n"
   ]
  },
  {
   "cell_type": "code",
   "execution_count": null,
   "id": "e6f6dec4",
   "metadata": {},
   "outputs": [],
   "source": []
  }
 ],
 "metadata": {
  "kernelspec": {
   "display_name": "Python 3",
   "language": "python",
   "name": "python3"
  },
  "language_info": {
   "codemirror_mode": {
    "name": "ipython",
    "version": 3
   },
   "file_extension": ".py",
   "mimetype": "text/x-python",
   "name": "python",
   "nbconvert_exporter": "python",
   "pygments_lexer": "ipython3",
   "version": "3.8.8"
  }
 },
 "nbformat": 4,
 "nbformat_minor": 5
}
