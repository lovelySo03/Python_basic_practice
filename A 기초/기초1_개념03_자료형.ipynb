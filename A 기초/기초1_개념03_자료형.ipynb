{
 "cells": [
  {
   "cell_type": "code",
   "execution_count": 1,
   "id": "01fa384b",
   "metadata": {},
   "outputs": [
    {
     "name": "stdout",
     "output_type": "stream",
     "text": [
      "13\n"
     ]
    }
   ],
   "source": [
    "# 정수\n",
    "print(13)"
   ]
  },
  {
   "cell_type": "code",
   "execution_count": 2,
   "id": "fdb93abb",
   "metadata": {},
   "outputs": [
    {
     "name": "stdout",
     "output_type": "stream",
     "text": [
      "10.33\n"
     ]
    }
   ],
   "source": [
    "# 실수\n",
    "print(10.33)"
   ]
  },
  {
   "cell_type": "code",
   "execution_count": 3,
   "id": "37b2b7d7",
   "metadata": {},
   "outputs": [
    {
     "name": "stdout",
     "output_type": "stream",
     "text": [
      "사랑해\n"
     ]
    }
   ],
   "source": [
    "# 문자\n",
    "print(\"사랑해\")"
   ]
  },
  {
   "cell_type": "code",
   "execution_count": 5,
   "id": "389cfc13",
   "metadata": {},
   "outputs": [
    {
     "name": "stdout",
     "output_type": "stream",
     "text": [
      "True\n"
     ]
    }
   ],
   "source": [
    "# 참 _ 첫글자는 대문자\n",
    "print(True)"
   ]
  },
  {
   "cell_type": "code",
   "execution_count": 6,
   "id": "9b3bab9a",
   "metadata": {},
   "outputs": [
    {
     "name": "stdout",
     "output_type": "stream",
     "text": [
      "False\n"
     ]
    }
   ],
   "source": [
    "# 거짓 _ 첫글자는 대문자\n",
    "print(False)"
   ]
  },
  {
   "cell_type": "code",
   "execution_count": null,
   "id": "86ba0612",
   "metadata": {},
   "outputs": [],
   "source": []
  }
 ],
 "metadata": {
  "kernelspec": {
   "display_name": "Python 3",
   "language": "python",
   "name": "python3"
  },
  "language_info": {
   "codemirror_mode": {
    "name": "ipython",
    "version": 3
   },
   "file_extension": ".py",
   "mimetype": "text/x-python",
   "name": "python",
   "nbconvert_exporter": "python",
   "pygments_lexer": "ipython3",
   "version": "3.8.8"
  }
 },
 "nbformat": 4,
 "nbformat_minor": 5
}
