{
 "cells": [
  {
   "cell_type": "code",
   "execution_count": 22,
   "id": "f44187ef",
   "metadata": {},
   "outputs": [],
   "source": [
    "# 산술 연산자 "
   ]
  },
  {
   "cell_type": "code",
   "execution_count": 23,
   "id": "0d7e5d97",
   "metadata": {},
   "outputs": [
    {
     "name": "stdout",
     "output_type": "stream",
     "text": [
      "5\n"
     ]
    }
   ],
   "source": [
    "# 더하기\n",
    "print(2+3)"
   ]
  },
  {
   "cell_type": "code",
   "execution_count": 24,
   "id": "a6ef29e5",
   "metadata": {},
   "outputs": [
    {
     "name": "stdout",
     "output_type": "stream",
     "text": [
      "-1\n"
     ]
    }
   ],
   "source": [
    "# 빼기\n",
    "print(2-3)"
   ]
  },
  {
   "cell_type": "code",
   "execution_count": 25,
   "id": "997a72fd",
   "metadata": {},
   "outputs": [
    {
     "name": "stdout",
     "output_type": "stream",
     "text": [
      "6\n"
     ]
    }
   ],
   "source": [
    "# 곱하기\n",
    "print(2*3)"
   ]
  },
  {
   "cell_type": "code",
   "execution_count": 26,
   "id": "0457cf71",
   "metadata": {},
   "outputs": [
    {
     "name": "stdout",
     "output_type": "stream",
     "text": [
      "1.6666666666666667\n"
     ]
    }
   ],
   "source": [
    "# 나누기\n",
    "print(5/3)"
   ]
  },
  {
   "cell_type": "markdown",
   "id": "d3a0a2de",
   "metadata": {},
   "source": [
    "컴퓨터는 실수를 정확하게 계산할 수 없기 때문에\n",
    "적당한 선에서 반올림을 해서 \n",
    "결과값을 소수점으로 표현한다 "
   ]
  },
  {
   "cell_type": "code",
   "execution_count": 27,
   "id": "6d84a36e",
   "metadata": {},
   "outputs": [
    {
     "name": "stdout",
     "output_type": "stream",
     "text": [
      "1\n"
     ]
    }
   ],
   "source": [
    "# 나누기 (몫 _ 소수점이 제거됨)\n",
    "print(5//3)"
   ]
  },
  {
   "cell_type": "code",
   "execution_count": 29,
   "id": "c229d910",
   "metadata": {},
   "outputs": [
    {
     "name": "stdout",
     "output_type": "stream",
     "text": [
      "2\n"
     ]
    }
   ],
   "source": [
    "# 나누기 (나머지 _ 5를 3으로 나누고 남은 수)\n",
    "print(5 % 3)"
   ]
  },
  {
   "cell_type": "code",
   "execution_count": null,
   "id": "e6383ca0",
   "metadata": {},
   "outputs": [],
   "source": []
  }
 ],
 "metadata": {
  "kernelspec": {
   "display_name": "Python 3",
   "language": "python",
   "name": "python3"
  },
  "language_info": {
   "codemirror_mode": {
    "name": "ipython",
    "version": 3
   },
   "file_extension": ".py",
   "mimetype": "text/x-python",
   "name": "python",
   "nbconvert_exporter": "python",
   "pygments_lexer": "ipython3",
   "version": "3.8.8"
  }
 },
 "nbformat": 4,
 "nbformat_minor": 5
}
