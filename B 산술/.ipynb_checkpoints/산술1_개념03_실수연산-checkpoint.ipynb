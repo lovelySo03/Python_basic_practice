{
 "cells": [
  {
   "cell_type": "code",
   "execution_count": 1,
   "id": "0eb6899a",
   "metadata": {},
   "outputs": [],
   "source": [
    "# 소수점 제한 명령어\n",
    "\n",
    "# 반올림 : round\n",
    "# round( 실수, 자리수 )"
   ]
  },
  {
   "cell_type": "code",
   "execution_count": 2,
   "id": "846565e3",
   "metadata": {},
   "outputs": [
    {
     "name": "stdout",
     "output_type": "stream",
     "text": [
      "3.3333333333333335\n"
     ]
    }
   ],
   "source": [
    "# 실수연산\n",
    "print(10/3)"
   ]
  },
  {
   "cell_type": "code",
   "execution_count": 3,
   "id": "674d5195",
   "metadata": {},
   "outputs": [
    {
     "name": "stdout",
     "output_type": "stream",
     "text": [
      "3.3\n"
     ]
    }
   ],
   "source": [
    "# 실수연산 _ 소수점 한자리\n",
    "print(round(10/3,1))"
   ]
  },
  {
   "cell_type": "code",
   "execution_count": 4,
   "id": "a56e313d",
   "metadata": {},
   "outputs": [
    {
     "name": "stdout",
     "output_type": "stream",
     "text": [
      "3.33\n"
     ]
    }
   ],
   "source": [
    "# 실수연산 _ 소수점 두자리\n",
    "print(round(10/3,2))"
   ]
  },
  {
   "cell_type": "code",
   "execution_count": 5,
   "id": "c492f005",
   "metadata": {},
   "outputs": [
    {
     "name": "stdout",
     "output_type": "stream",
     "text": [
      "3.333\n"
     ]
    }
   ],
   "source": [
    "# 실수연산 _ 소수점 세자리\n",
    "print(round(10/3,3))"
   ]
  },
  {
   "cell_type": "markdown",
   "id": "1c0735af",
   "metadata": {},
   "source": []
  },
  {
   "cell_type": "code",
   "execution_count": 9,
   "id": "6f718ea7",
   "metadata": {},
   "outputs": [
    {
     "name": "stdout",
     "output_type": "stream",
     "text": [
      "12.52623\n"
     ]
    }
   ],
   "source": [
    "print(10.00323+2.523)"
   ]
  },
  {
   "cell_type": "code",
   "execution_count": 11,
   "id": "bf2e52f2",
   "metadata": {},
   "outputs": [
    {
     "name": "stdout",
     "output_type": "stream",
     "text": [
      "12.53\n"
     ]
    }
   ],
   "source": [
    "print(round(10.00323+2.523,2))"
   ]
  },
  {
   "cell_type": "code",
   "execution_count": 12,
   "id": "63e841d2",
   "metadata": {},
   "outputs": [
    {
     "name": "stdout",
     "output_type": "stream",
     "text": [
      "12.5\n"
     ]
    }
   ],
   "source": [
    "print(round(10.00323+2.523,1))"
   ]
  },
  {
   "cell_type": "code",
   "execution_count": 13,
   "id": "a04e6648",
   "metadata": {},
   "outputs": [
    {
     "name": "stdout",
     "output_type": "stream",
     "text": [
      "1.235\n"
     ]
    }
   ],
   "source": [
    "print(round(1.2345678,3))"
   ]
  },
  {
   "cell_type": "code",
   "execution_count": null,
   "id": "656b72c0",
   "metadata": {},
   "outputs": [],
   "source": []
  }
 ],
 "metadata": {
  "kernelspec": {
   "display_name": "Python 3",
   "language": "python",
   "name": "python3"
  },
  "language_info": {
   "codemirror_mode": {
    "name": "ipython",
    "version": 3
   },
   "file_extension": ".py",
   "mimetype": "text/x-python",
   "name": "python",
   "nbconvert_exporter": "python",
   "pygments_lexer": "ipython3",
   "version": "3.8.8"
  }
 },
 "nbformat": 4,
 "nbformat_minor": 5
}
