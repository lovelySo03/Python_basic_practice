{
 "cells": [
  {
   "cell_type": "code",
   "execution_count": 5,
   "id": "b7826c85",
   "metadata": {},
   "outputs": [
    {
     "name": "stdout",
     "output_type": "stream",
     "text": [
      "철수와 영희는 가위바위보 게임을 하고 있다. \n",
      "규칙은 아래와 같다.\t\n",
      "\n",
      "이기면 계단을 3칸 올라간다.\n",
      "지면 계단을 2칸 내려간다.\n",
      "비기면 아무 일도 생기지 않는다. \n",
      "계단은 총 100계단이다. \n",
      "\n",
      "50번째 계단에서 게임을 시작한다.\n"
     ]
    }
   ],
   "source": [
    "print(\"\"\"\\\n",
    "\\\n",
    "철수와 영희는 가위바위보 게임을 하고 있다. \n",
    "규칙은 아래와 같다.\t\n",
    "\n",
    "이기면 계단을 3칸 올라간다.\n",
    "지면 계단을 2칸 내려간다.\n",
    "비기면 아무 일도 생기지 않는다. \n",
    "계단은 총 100계단이다. \n",
    "\n",
    "50번째 계단에서 게임을 시작한다.\"\"\")"
   ]
  },
  {
   "cell_type": "code",
   "execution_count": 6,
   "id": "f485d257",
   "metadata": {},
   "outputs": [
    {
     "name": "stdout",
     "output_type": "stream",
     "text": [
      "철수는 4번 이기고 2번 졌다.\n",
      "철수의 현재위치를 구하시오.\n"
     ]
    }
   ],
   "source": [
    "print('''철수는 4번 이기고 2번 졌다.\n",
    "철수의 현재위치를 구하시오.''')"
   ]
  },
  {
   "cell_type": "code",
   "execution_count": 7,
   "id": "aafb2187",
   "metadata": {},
   "outputs": [],
   "source": [
    "k = 4*3 - 2*2"
   ]
  },
  {
   "cell_type": "code",
   "execution_count": 8,
   "id": "61e21388",
   "metadata": {},
   "outputs": [
    {
     "name": "stdout",
     "output_type": "stream",
     "text": [
      "8\n"
     ]
    }
   ],
   "source": [
    "print(k)"
   ]
  },
  {
   "cell_type": "code",
   "execution_count": null,
   "id": "d0273069",
   "metadata": {},
   "outputs": [],
   "source": []
  }
 ],
 "metadata": {
  "kernelspec": {
   "display_name": "Python 3",
   "language": "python",
   "name": "python3"
  },
  "language_info": {
   "codemirror_mode": {
    "name": "ipython",
    "version": 3
   },
   "file_extension": ".py",
   "mimetype": "text/x-python",
   "name": "python",
   "nbconvert_exporter": "python",
   "pygments_lexer": "ipython3",
   "version": "3.8.8"
  }
 },
 "nbformat": 4,
 "nbformat_minor": 5
}
