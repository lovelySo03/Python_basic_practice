{
 "cells": [
  {
   "cell_type": "code",
   "execution_count": 1,
   "id": "b7dfd494",
   "metadata": {},
   "outputs": [
    {
     "name": "stdout",
     "output_type": "stream",
     "text": [
      "\n",
      "사과 한 개의 무게는 140.1g 이다.\n",
      "귤 한개의 무게는 78.32g 이다.\n",
      "두 과일의 무게 합을 구하시오.\n",
      "\n"
     ]
    }
   ],
   "source": [
    "print(\"\"\"\n",
    "사과 한 개의 무게는 140.1g 이다.\n",
    "귤 한개의 무게는 78.32g 이다.\n",
    "두 과일의 무게 합을 구하시오.\n",
    "\"\"\")"
   ]
  },
  {
   "cell_type": "code",
   "execution_count": 2,
   "id": "8ce65fb2",
   "metadata": {},
   "outputs": [
    {
     "name": "stdout",
     "output_type": "stream",
     "text": [
      "218.42\n"
     ]
    }
   ],
   "source": [
    "a = 140.1 + 78.32\n",
    "print(a)"
   ]
  },
  {
   "cell_type": "code",
   "execution_count": null,
   "id": "61a6ddde",
   "metadata": {},
   "outputs": [],
   "source": []
  }
 ],
 "metadata": {
  "kernelspec": {
   "display_name": "Python 3",
   "language": "python",
   "name": "python3"
  },
  "language_info": {
   "codemirror_mode": {
    "name": "ipython",
    "version": 3
   },
   "file_extension": ".py",
   "mimetype": "text/x-python",
   "name": "python",
   "nbconvert_exporter": "python",
   "pygments_lexer": "ipython3",
   "version": "3.8.8"
  }
 },
 "nbformat": 4,
 "nbformat_minor": 5
}
