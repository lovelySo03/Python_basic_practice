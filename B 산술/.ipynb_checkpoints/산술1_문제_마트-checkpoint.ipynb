{
 "cells": [
  {
   "cell_type": "code",
   "execution_count": 1,
   "id": "b7e27e0d",
   "metadata": {},
   "outputs": [
    {
     "name": "stdout",
     "output_type": "stream",
     "text": [
      "\n",
      "철수는 현금 10000원을 가지고 마트에 갔다.\n",
      "사과 한 개의 가격은 200원이고, 귤 한 개의 가격은 110원이다. \n",
      "사과 3개와 귤 10개를 사려고 한다 .  \n",
      "모두 사면 거스름돈은 얼마인지 구하시오.\n",
      "\n"
     ]
    }
   ],
   "source": [
    "print('''\n",
    "철수는 현금 10000원을 가지고 마트에 갔다.\n",
    "사과 한 개의 가격은 200원이고, 귤 한 개의 가격은 110원이다. \n",
    "사과 3개와 귤 10개를 사려고 한다 .  \n",
    "모두 사면 거스름돈은 얼마인지 구하시오.\n",
    "''')"
   ]
  },
  {
   "cell_type": "code",
   "execution_count": 2,
   "id": "102f212f",
   "metadata": {},
   "outputs": [],
   "source": [
    "k = 10000 -3*200 -10*110"
   ]
  },
  {
   "cell_type": "code",
   "execution_count": 3,
   "id": "027a1c90",
   "metadata": {},
   "outputs": [
    {
     "name": "stdout",
     "output_type": "stream",
     "text": [
      "8300\n"
     ]
    }
   ],
   "source": [
    "print(k)"
   ]
  },
  {
   "cell_type": "code",
   "execution_count": null,
   "id": "f8740c30",
   "metadata": {},
   "outputs": [],
   "source": []
  }
 ],
 "metadata": {
  "kernelspec": {
   "display_name": "Python 3",
   "language": "python",
   "name": "python3"
  },
  "language_info": {
   "codemirror_mode": {
    "name": "ipython",
    "version": 3
   },
   "file_extension": ".py",
   "mimetype": "text/x-python",
   "name": "python",
   "nbconvert_exporter": "python",
   "pygments_lexer": "ipython3",
   "version": "3.8.8"
  }
 },
 "nbformat": 4,
 "nbformat_minor": 5
}
