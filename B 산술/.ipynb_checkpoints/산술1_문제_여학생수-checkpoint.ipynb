{
 "cells": [
  {
   "cell_type": "code",
   "execution_count": 4,
   "id": "5f8bc2e5",
   "metadata": {},
   "outputs": [
    {
     "name": "stdout",
     "output_type": "stream",
     "text": [
      "\n",
      "철수네 반 학생은 총 31명이다. \n",
      "남학생은 n명이면 여학생은 몇 명인지 구하시오.\t\n",
      "\n"
     ]
    }
   ],
   "source": [
    "print(\"\"\"\n",
    "철수네 반 학생은 총 31명이다. \n",
    "남학생은 n명이면 여학생은 몇 명인지 구하시오.\t\n",
    "\"\"\")"
   ]
  },
  {
   "cell_type": "code",
   "execution_count": 5,
   "id": "7003773c",
   "metadata": {},
   "outputs": [
    {
     "name": "stdout",
     "output_type": "stream",
     "text": [
      "n의 값을 입력하세요17\n"
     ]
    }
   ],
   "source": [
    "n = int(input(\"n의 값을 입력하세요\"))"
   ]
  },
  {
   "cell_type": "code",
   "execution_count": 6,
   "id": "df242169",
   "metadata": {},
   "outputs": [],
   "source": [
    "m = 31-n"
   ]
  },
  {
   "cell_type": "code",
   "execution_count": 7,
   "id": "2582ca5a",
   "metadata": {},
   "outputs": [
    {
     "name": "stdout",
     "output_type": "stream",
     "text": [
      "여학생 수는 14 명 입니다\n"
     ]
    }
   ],
   "source": [
    "print(\"여학생 수는\",m,\"명 입니다\")"
   ]
  },
  {
   "cell_type": "code",
   "execution_count": null,
   "id": "f783a818",
   "metadata": {},
   "outputs": [],
   "source": []
  }
 ],
 "metadata": {
  "kernelspec": {
   "display_name": "Python 3",
   "language": "python",
   "name": "python3"
  },
  "language_info": {
   "codemirror_mode": {
    "name": "ipython",
    "version": 3
   },
   "file_extension": ".py",
   "mimetype": "text/x-python",
   "name": "python",
   "nbconvert_exporter": "python",
   "pygments_lexer": "ipython3",
   "version": "3.8.8"
  }
 },
 "nbformat": 4,
 "nbformat_minor": 5
}
