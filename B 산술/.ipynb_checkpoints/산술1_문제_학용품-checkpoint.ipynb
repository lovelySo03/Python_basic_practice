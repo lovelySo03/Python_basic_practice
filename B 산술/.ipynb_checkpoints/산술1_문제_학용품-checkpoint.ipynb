{
 "cells": [
  {
   "cell_type": "code",
   "execution_count": 8,
   "id": "5d66a0b6",
   "metadata": {},
   "outputs": [
    {
     "name": "stdout",
     "output_type": "stream",
     "text": [
      "\n",
      "철수는 학용품 정리를 하고 있다.\n",
      "가지고 있는 지우개와 볼펜과 연필을 모두 합치니 A개였다.\n",
      "지우개는 B개이고 볼펜이 C개라고 하면, \n",
      "연필은 모두 몇 개인지 구하시오.\n",
      "\n"
     ]
    }
   ],
   "source": [
    "print(\"\"\"\n",
    "철수는 학용품 정리를 하고 있다.\n",
    "가지고 있는 지우개와 볼펜과 연필을 모두 합치니 A개였다.\n",
    "지우개는 B개이고 볼펜이 C개라고 하면, \n",
    "연필은 모두 몇 개인지 구하시오.\n",
    "\"\"\")"
   ]
  },
  {
   "cell_type": "code",
   "execution_count": 9,
   "id": "fc5316df",
   "metadata": {},
   "outputs": [
    {
     "name": "stdout",
     "output_type": "stream",
     "text": [
      "A값은?27\n"
     ]
    }
   ],
   "source": [
    "A = int(input(\"A값은?\"))"
   ]
  },
  {
   "cell_type": "code",
   "execution_count": 10,
   "id": "3a438265",
   "metadata": {},
   "outputs": [
    {
     "name": "stdout",
     "output_type": "stream",
     "text": [
      "B값은?12\n"
     ]
    }
   ],
   "source": [
    "B = int(input(\"B값은?\"))"
   ]
  },
  {
   "cell_type": "code",
   "execution_count": 11,
   "id": "bd3eb945",
   "metadata": {},
   "outputs": [
    {
     "name": "stdout",
     "output_type": "stream",
     "text": [
      "C값은?7\n"
     ]
    }
   ],
   "source": [
    "C = int(input(\"C값은?\"))"
   ]
  },
  {
   "cell_type": "code",
   "execution_count": 12,
   "id": "484d775b",
   "metadata": {},
   "outputs": [],
   "source": [
    "D = A - B - C"
   ]
  },
  {
   "cell_type": "code",
   "execution_count": 13,
   "id": "53f3589a",
   "metadata": {},
   "outputs": [
    {
     "name": "stdout",
     "output_type": "stream",
     "text": [
      "정답은 8 개 이다.\n"
     ]
    }
   ],
   "source": [
    "print(\"정답은\", D, \"개 이다.\")"
   ]
  },
  {
   "cell_type": "code",
   "execution_count": null,
   "id": "c155049b",
   "metadata": {},
   "outputs": [],
   "source": []
  }
 ],
 "metadata": {
  "kernelspec": {
   "display_name": "Python 3",
   "language": "python",
   "name": "python3"
  },
  "language_info": {
   "codemirror_mode": {
    "name": "ipython",
    "version": 3
   },
   "file_extension": ".py",
   "mimetype": "text/x-python",
   "name": "python",
   "nbconvert_exporter": "python",
   "pygments_lexer": "ipython3",
   "version": "3.8.8"
  }
 },
 "nbformat": 4,
 "nbformat_minor": 5
}
