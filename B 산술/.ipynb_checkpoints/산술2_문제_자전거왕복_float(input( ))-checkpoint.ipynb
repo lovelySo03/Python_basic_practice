{
 "cells": [
  {
   "cell_type": "code",
   "execution_count": 4,
   "id": "312fcc32",
   "metadata": {},
   "outputs": [
    {
     "name": "stdout",
     "output_type": "stream",
     "text": [
      "\n",
      "철수는 자전거를 타고 Am 떨어진 학교에 갔다. \n",
      "철수는 운동장을 B바퀴를 돌고 집에 왔다. \n",
      "운동장 1바퀴는 283m일 때,\n",
      "철수는 오늘 몇 미터를 다녀왔는지 구하시오.\n",
      "\n"
     ]
    }
   ],
   "source": [
    "print(\"\"\"\n",
    "철수는 자전거를 타고 Am 떨어진 학교에 갔다. \n",
    "철수는 운동장을 B바퀴를 돌고 집에 왔다. \n",
    "운동장 1바퀴는 283m일 때,\n",
    "철수는 오늘 몇 미터를 다녀왔는지 구하시오.\n",
    "\"\"\")"
   ]
  },
  {
   "cell_type": "code",
   "execution_count": 5,
   "id": "ba50b512",
   "metadata": {},
   "outputs": [
    {
     "name": "stdout",
     "output_type": "stream",
     "text": [
      "A의 값은?2300\n"
     ]
    }
   ],
   "source": [
    "A = int(input(\"A의 값은?\"))"
   ]
  },
  {
   "cell_type": "code",
   "execution_count": 6,
   "id": "2d14a6a3",
   "metadata": {},
   "outputs": [
    {
     "name": "stdout",
     "output_type": "stream",
     "text": [
      "B의 값은?3.5\n"
     ]
    }
   ],
   "source": [
    "B = float(input(\"B의 값은?\"))"
   ]
  },
  {
   "cell_type": "code",
   "execution_count": 7,
   "id": "383ed11c",
   "metadata": {},
   "outputs": [],
   "source": [
    "total = 2*A + 283*B"
   ]
  },
  {
   "cell_type": "code",
   "execution_count": 8,
   "id": "13dcd169",
   "metadata": {},
   "outputs": [
    {
     "name": "stdout",
     "output_type": "stream",
     "text": [
      "철수는 오늘  5590.5 m를 다녀왔다\n"
     ]
    }
   ],
   "source": [
    "print(\"철수는 오늘 \", total,\"m를 다녀왔다\")"
   ]
  },
  {
   "cell_type": "code",
   "execution_count": null,
   "id": "e70b0a84",
   "metadata": {},
   "outputs": [],
   "source": []
  },
  {
   "cell_type": "code",
   "execution_count": null,
   "id": "02434912",
   "metadata": {},
   "outputs": [],
   "source": []
  }
 ],
 "metadata": {
  "kernelspec": {
   "display_name": "Python 3",
   "language": "python",
   "name": "python3"
  },
  "language_info": {
   "codemirror_mode": {
    "name": "ipython",
    "version": 3
   },
   "file_extension": ".py",
   "mimetype": "text/x-python",
   "name": "python",
   "nbconvert_exporter": "python",
   "pygments_lexer": "ipython3",
   "version": "3.8.8"
  }
 },
 "nbformat": 4,
 "nbformat_minor": 5
}
