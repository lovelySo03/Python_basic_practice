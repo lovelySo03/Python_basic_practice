{
 "cells": [
  {
   "cell_type": "code",
   "execution_count": null,
   "id": "6aa8bd76",
   "metadata": {},
   "outputs": [],
   "source": [
    "print(\"\"\"\n",
    "철수는 하루 8시간 아르바이트하고 있다.\n",
    "아르바이트 수당은 한 시간에 9400원이다. \n",
    "\n",
    "오늘 철수는 4시간 추가 근무하여 총 12시간 근무하였다.\n",
    "오늘 추가 근무한 4시간 중 3시간은 야근수당을 받게 되었다.\n",
    "오늘 철수가 받을 수당은 얼마인지 구하시오.\n",
    "단, 야근수당은 일반수당의 1.5배이다.\n",
    "\"\"\")"
   ]
  }
 ],
 "metadata": {
  "kernelspec": {
   "display_name": "Python 3",
   "language": "python",
   "name": "python3"
  },
  "language_info": {
   "codemirror_mode": {
    "name": "ipython",
    "version": 3
   },
   "file_extension": ".py",
   "mimetype": "text/x-python",
   "name": "python",
   "nbconvert_exporter": "python",
   "pygments_lexer": "ipython3",
   "version": "3.8.8"
  }
 },
 "nbformat": 4,
 "nbformat_minor": 5
}
