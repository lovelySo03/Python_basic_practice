{
 "cells": [
  {
   "cell_type": "code",
   "execution_count": 17,
   "id": "b41b07d0",
   "metadata": {},
   "outputs": [],
   "source": [
    "import statistics"
   ]
  },
  {
   "cell_type": "code",
   "execution_count": 18,
   "id": "c8070244",
   "metadata": {},
   "outputs": [
    {
     "name": "stdout",
     "output_type": "stream",
     "text": [
      "\n",
      "민수는 키가 Acm이고,\n",
      "철수는 키가 Bcm이고,\n",
      "영희는 키가 Ccm이다.\n",
      "세 학생 키의 평균에서 키가 가장 작은 학생의 차이를 구하시오.\n",
      "소수점 두자리까지 구하시오.\n",
      "\n"
     ]
    }
   ],
   "source": [
    "print(\"\"\"\n",
    "민수는 키가 Acm이고,\n",
    "철수는 키가 Bcm이고,\n",
    "영희는 키가 Ccm이다.\n",
    "세 학생 키의 평균에서 키가 가장 작은 학생의 차이를 구하시오.\n",
    "소수점 두자리까지 구하시오.\n",
    "\"\"\")"
   ]
  },
  {
   "cell_type": "code",
   "execution_count": 19,
   "id": "ceb3b725",
   "metadata": {},
   "outputs": [
    {
     "name": "stdout",
     "output_type": "stream",
     "text": [
      "A의 값은?184\n"
     ]
    }
   ],
   "source": [
    "A = int(input(\"A의 값은?\"))"
   ]
  },
  {
   "cell_type": "code",
   "execution_count": 20,
   "id": "63635ec9",
   "metadata": {},
   "outputs": [
    {
     "name": "stdout",
     "output_type": "stream",
     "text": [
      "B의 값은?165\n"
     ]
    }
   ],
   "source": [
    "B = int(input(\"B의 값은?\"))"
   ]
  },
  {
   "cell_type": "code",
   "execution_count": 21,
   "id": "15ea8721",
   "metadata": {},
   "outputs": [
    {
     "name": "stdout",
     "output_type": "stream",
     "text": [
      "C의 값은?160\n"
     ]
    }
   ],
   "source": [
    "C = int(input(\"C의 값은?\"))"
   ]
  },
  {
   "cell_type": "code",
   "execution_count": 22,
   "id": "0ae8bfe7",
   "metadata": {},
   "outputs": [
    {
     "name": "stdout",
     "output_type": "stream",
     "text": [
      "평균운 169.66666666666666 입니다\n"
     ]
    }
   ],
   "source": [
    "my_list = [A, B, C]\n",
    "mean = statistics.mean(my_list)\n",
    "print(\"평균운\",mean,\"입니다\")"
   ]
  },
  {
   "cell_type": "code",
   "execution_count": 23,
   "id": "92a79149",
   "metadata": {},
   "outputs": [
    {
     "name": "stdout",
     "output_type": "stream",
     "text": [
      "가장 작은 키는 160 입니다\n"
     ]
    }
   ],
   "source": [
    "minimum = min(my_list)\n",
    "print(\"가장 작은 키는\",minimum,\"입니다\")"
   ]
  },
  {
   "cell_type": "code",
   "execution_count": 24,
   "id": "a5141fa1",
   "metadata": {},
   "outputs": [
    {
     "name": "stdout",
     "output_type": "stream",
     "text": [
      "평균에서 가장 작은 키를 뺀 값은 9.67 입니다\n"
     ]
    }
   ],
   "source": [
    "diff = round(mean - minimum,2)\n",
    "print(\"평균에서 가장 작은 키를 뺀 값은\",diff,\"입니다\")"
   ]
  },
  {
   "cell_type": "code",
   "execution_count": null,
   "id": "74b53bf8",
   "metadata": {},
   "outputs": [],
   "source": []
  },
  {
   "cell_type": "code",
   "execution_count": null,
   "id": "6a4449cc",
   "metadata": {},
   "outputs": [],
   "source": []
  }
 ],
 "metadata": {
  "kernelspec": {
   "display_name": "Python 3",
   "language": "python",
   "name": "python3"
  },
  "language_info": {
   "codemirror_mode": {
    "name": "ipython",
    "version": 3
   },
   "file_extension": ".py",
   "mimetype": "text/x-python",
   "name": "python",
   "nbconvert_exporter": "python",
   "pygments_lexer": "ipython3",
   "version": "3.8.8"
  }
 },
 "nbformat": 4,
 "nbformat_minor": 5
}
