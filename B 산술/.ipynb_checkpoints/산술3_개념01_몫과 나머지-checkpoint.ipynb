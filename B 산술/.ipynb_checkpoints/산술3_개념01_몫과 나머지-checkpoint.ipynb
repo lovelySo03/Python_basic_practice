{
 "cells": [
  {
   "cell_type": "code",
   "execution_count": 8,
   "id": "eb4ff450",
   "metadata": {},
   "outputs": [
    {
     "name": "stdout",
     "output_type": "stream",
     "text": [
      "\n",
      "[문제] \n",
      "색종이가 A장있다. \n",
      "[1] 색종이를 B사람이서 똑같은 개수로 나눠가지면 \n",
      "총 몇장을 가질수있는지 구하시오.\n",
      "[2] 위에서 나눠주고 난 나머지는 얼마인지 구하시오.\n",
      "\n"
     ]
    }
   ],
   "source": [
    "print(\"\"\"\n",
    "[문제] \n",
    "색종이가 A장있다. \n",
    "[1] 색종이를 B사람이서 똑같은 개수로 나눠가지면 \n",
    "총 몇장을 가질수있는지 구하시오.\n",
    "[2] 위에서 나눠주고 난 나머지는 얼마인지 구하시오.\n",
    "\"\"\")"
   ]
  },
  {
   "cell_type": "code",
   "execution_count": 9,
   "id": "3b086346",
   "metadata": {},
   "outputs": [
    {
     "name": "stdout",
     "output_type": "stream",
     "text": [
      "A의 값은?100\n"
     ]
    }
   ],
   "source": [
    "A = int(input(\"A의 값은?\"))"
   ]
  },
  {
   "cell_type": "code",
   "execution_count": 10,
   "id": "0351193b",
   "metadata": {},
   "outputs": [
    {
     "name": "stdout",
     "output_type": "stream",
     "text": [
      "B의 값은?5\n"
     ]
    }
   ],
   "source": [
    "B = int(input(\"B의 값은?\"))"
   ]
  },
  {
   "cell_type": "code",
   "execution_count": 11,
   "id": "235a6c4b",
   "metadata": {},
   "outputs": [
    {
     "name": "stdout",
     "output_type": "stream",
     "text": [
      "[1] 정답은 20 이다\n"
     ]
    }
   ],
   "source": [
    "print(\"[1] 정답은\",A//B,'이다')"
   ]
  },
  {
   "cell_type": "code",
   "execution_count": 12,
   "id": "eb30be47",
   "metadata": {},
   "outputs": [
    {
     "name": "stdout",
     "output_type": "stream",
     "text": [
      "[2] 정답은 0 이다\n"
     ]
    }
   ],
   "source": [
    "print(\"[2] 정답은\",A%B,'이다')"
   ]
  },
  {
   "cell_type": "code",
   "execution_count": null,
   "id": "91319fde",
   "metadata": {},
   "outputs": [],
   "source": []
  }
 ],
 "metadata": {
  "kernelspec": {
   "display_name": "Python 3",
   "language": "python",
   "name": "python3"
  },
  "language_info": {
   "codemirror_mode": {
    "name": "ipython",
    "version": 3
   },
   "file_extension": ".py",
   "mimetype": "text/x-python",
   "name": "python",
   "nbconvert_exporter": "python",
   "pygments_lexer": "ipython3",
   "version": "3.8.8"
  }
 },
 "nbformat": 4,
 "nbformat_minor": 5
}
