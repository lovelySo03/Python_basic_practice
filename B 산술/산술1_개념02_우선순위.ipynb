{
 "cells": [
  {
   "cell_type": "code",
   "execution_count": 1,
   "id": "2d44db0b",
   "metadata": {},
   "outputs": [
    {
     "data": {
      "text/plain": [
       "'\\n1. 곱하기와 나누기는 더하기 빼기보다 우선순위가 높다.\\n2. 더하기나 빼기를 먼저 계산할 때는 소괄호()를 사용해야 한다. \\n\\nex)\\n3 + 5 * 10 = 53\\n(3 + 5)*10 = 80\\n\\n3. 우선순위 표\\n    [1] ()\\n    [2] * / // %\\n    [3] + -\\n\\n'"
      ]
     },
     "execution_count": 1,
     "metadata": {},
     "output_type": "execute_result"
    }
   ],
   "source": [
    "\"\"\"\n",
    "1. 곱하기와 나누기는 더하기 빼기보다 우선순위가 높다.\n",
    "2. 더하기나 빼기를 먼저 계산할 때는 소괄호()를 사용해야 한다. \n",
    "\n",
    "ex)\n",
    "3 + 5 * 10 = 53\n",
    "(3 + 5)*10 = 80\n",
    "\n",
    "3. 우선순위 표\n",
    "    [1] ()\n",
    "    [2] * / // %\n",
    "    [3] + -\n",
    "\n",
    "\"\"\""
   ]
  },
  {
   "cell_type": "code",
   "execution_count": 2,
   "id": "28248b35",
   "metadata": {},
   "outputs": [
    {
     "name": "stdout",
     "output_type": "stream",
     "text": [
      "53\n"
     ]
    }
   ],
   "source": [
    "print(3 + 5 *10)"
   ]
  },
  {
   "cell_type": "code",
   "execution_count": 3,
   "id": "1f256c84",
   "metadata": {},
   "outputs": [
    {
     "name": "stdout",
     "output_type": "stream",
     "text": [
      "80\n"
     ]
    }
   ],
   "source": [
    "print((3+5)*10)"
   ]
  },
  {
   "cell_type": "code",
   "execution_count": null,
   "id": "48d664ff",
   "metadata": {},
   "outputs": [],
   "source": []
  }
 ],
 "metadata": {
  "kernelspec": {
   "display_name": "Python 3",
   "language": "python",
   "name": "python3"
  },
  "language_info": {
   "codemirror_mode": {
    "name": "ipython",
    "version": 3
   },
   "file_extension": ".py",
   "mimetype": "text/x-python",
   "name": "python",
   "nbconvert_exporter": "python",
   "pygments_lexer": "ipython3",
   "version": "3.8.8"
  }
 },
 "nbformat": 4,
 "nbformat_minor": 5
}
