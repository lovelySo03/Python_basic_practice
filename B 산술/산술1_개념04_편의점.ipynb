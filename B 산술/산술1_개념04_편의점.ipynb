{
 "cells": [
  {
   "cell_type": "code",
   "execution_count": 21,
   "id": "47d6faa5",
   "metadata": {},
   "outputs": [
    {
     "name": "stdout",
     "output_type": "stream",
     "text": [
      "현금을 얼마 가지고 있나요?10000\n"
     ]
    }
   ],
   "source": [
    "a = int(input(\"현금을 얼마 가지고 있나요?\"))"
   ]
  },
  {
   "cell_type": "code",
   "execution_count": 22,
   "id": "20f7fd34",
   "metadata": {},
   "outputs": [
    {
     "name": "stdout",
     "output_type": "stream",
     "text": [
      "과자는 1200원 입니다.\n",
      "과자를 몇 개 구입하시겠습니까?\n",
      "3\n"
     ]
    }
   ],
   "source": [
    "print(\"과자는 1200원 입니다.\")\n",
    "print(\"과자를 몇 개 구입하시겠습니까?\")\n",
    "b = int(input())"
   ]
  },
  {
   "cell_type": "code",
   "execution_count": 23,
   "id": "1bd8daa6",
   "metadata": {},
   "outputs": [
    {
     "name": "stdout",
     "output_type": "stream",
     "text": [
      "음료수는 1900원 입니다.\n",
      "음료수를 몇 개 구입하시겠습니까?\n",
      "1\n"
     ]
    }
   ],
   "source": [
    "print(\"음료수는 1900원 입니다.\")\n",
    "print(\"음료수를 몇 개 구입하시겠습니까?\")\n",
    "c = int(input())"
   ]
  },
  {
   "cell_type": "code",
   "execution_count": 24,
   "id": "f46f2557",
   "metadata": {},
   "outputs": [
    {
     "name": "stdout",
     "output_type": "stream",
     "text": [
      "10000\n",
      "3\n",
      "1\n"
     ]
    }
   ],
   "source": [
    "print(a)\n",
    "print(b)\n",
    "print(c)"
   ]
  },
  {
   "cell_type": "code",
   "execution_count": 25,
   "id": "51c373c8",
   "metadata": {},
   "outputs": [
    {
     "name": "stdout",
     "output_type": "stream",
     "text": [
      "거스름돈은 다음과 같습니다\n",
      "4500 원\n"
     ]
    }
   ],
   "source": [
    "sum = a-1200*b-1900*c\n",
    "print(\"거스름돈은 다음과 같습니다\")\n",
    "print(sum,\"원\")"
   ]
  },
  {
   "cell_type": "code",
   "execution_count": null,
   "id": "217bb728",
   "metadata": {},
   "outputs": [],
   "source": []
  }
 ],
 "metadata": {
  "kernelspec": {
   "display_name": "Python 3",
   "language": "python",
   "name": "python3"
  },
  "language_info": {
   "codemirror_mode": {
    "name": "ipython",
    "version": 3
   },
   "file_extension": ".py",
   "mimetype": "text/x-python",
   "name": "python",
   "nbconvert_exporter": "python",
   "pygments_lexer": "ipython3",
   "version": "3.8.8"
  }
 },
 "nbformat": 4,
 "nbformat_minor": 5
}
