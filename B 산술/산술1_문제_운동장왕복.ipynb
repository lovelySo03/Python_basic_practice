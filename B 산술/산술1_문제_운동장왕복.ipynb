{
 "cells": [
  {
   "cell_type": "code",
   "execution_count": 4,
   "id": "dc2d31ef",
   "metadata": {},
   "outputs": [
    {
     "name": "stdout",
     "output_type": "stream",
     "text": [
      "\n",
      "철수는 집에서 학원에 들려서 학교 운동장까지 걸어갔다가 돌아왔다.\n",
      "집에서 학원까지의 거리는 (A)m이고,\n",
      "학원에서 학교 운동장까지의 거리는 (B)m이다. \n",
      "철수가 왕복한 거리는 얼마인지 구하시오.\n",
      "\n"
     ]
    }
   ],
   "source": [
    "print(\"\"\"\n",
    "철수는 집에서 학원에 들려서 학교 운동장까지 걸어갔다가 돌아왔다.\n",
    "집에서 학원까지의 거리는 (A)m이고,\n",
    "학원에서 학교 운동장까지의 거리는 (B)m이다. \n",
    "철수가 왕복한 거리는 얼마인지 구하시오.\n",
    "\"\"\")"
   ]
  },
  {
   "cell_type": "code",
   "execution_count": 5,
   "id": "bc454c13",
   "metadata": {},
   "outputs": [
    {
     "name": "stdout",
     "output_type": "stream",
     "text": [
      "A의 값을 말해주세요300\n"
     ]
    }
   ],
   "source": [
    "A = int(input(\"A의 값을 말해주세요\"))"
   ]
  },
  {
   "cell_type": "code",
   "execution_count": 6,
   "id": "836741d3",
   "metadata": {},
   "outputs": [
    {
     "name": "stdout",
     "output_type": "stream",
     "text": [
      "B의 값을 말해주세요821\n"
     ]
    }
   ],
   "source": [
    "B = int(input(\"B의 값을 말해주세요\"))"
   ]
  },
  {
   "cell_type": "code",
   "execution_count": 7,
   "id": "7532b99f",
   "metadata": {},
   "outputs": [],
   "source": [
    "C = 2*(A+B)"
   ]
  },
  {
   "cell_type": "code",
   "execution_count": 8,
   "id": "e492454a",
   "metadata": {},
   "outputs": [
    {
     "name": "stdout",
     "output_type": "stream",
     "text": [
      "정답은 2242 m 입니다.\n"
     ]
    }
   ],
   "source": [
    "print(\"정답은\",C,\"m 입니다.\")"
   ]
  },
  {
   "cell_type": "code",
   "execution_count": null,
   "id": "890f9fd1",
   "metadata": {},
   "outputs": [],
   "source": []
  }
 ],
 "metadata": {
  "kernelspec": {
   "display_name": "Python 3",
   "language": "python",
   "name": "python3"
  },
  "language_info": {
   "codemirror_mode": {
    "name": "ipython",
    "version": 3
   },
   "file_extension": ".py",
   "mimetype": "text/x-python",
   "name": "python",
   "nbconvert_exporter": "python",
   "pygments_lexer": "ipython3",
   "version": "3.8.8"
  }
 },
 "nbformat": 4,
 "nbformat_minor": 5
}
