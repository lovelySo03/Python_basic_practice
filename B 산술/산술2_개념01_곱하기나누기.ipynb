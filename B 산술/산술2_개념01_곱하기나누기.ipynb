{
 "cells": [
  {
   "cell_type": "code",
   "execution_count": 17,
   "id": "32f2623c",
   "metadata": {},
   "outputs": [],
   "source": [
    "import math"
   ]
  },
  {
   "cell_type": "code",
   "execution_count": 18,
   "id": "9b35764e",
   "metadata": {},
   "outputs": [
    {
     "name": "stdout",
     "output_type": "stream",
     "text": [
      "\n",
      "사과 A개의 무게는 Bg 이다. \n",
      "사과 n개의 무게는 얼마인지 구하시오.\n",
      "\n"
     ]
    }
   ],
   "source": [
    "print(\"\"\"\n",
    "사과 A개의 무게는 Bg 이다. \n",
    "사과 n개의 무게는 얼마인지 구하시오.\n",
    "\"\"\")"
   ]
  },
  {
   "cell_type": "code",
   "execution_count": 19,
   "id": "e73c8b1b",
   "metadata": {},
   "outputs": [
    {
     "name": "stdout",
     "output_type": "stream",
     "text": [
      "A의 값은?4\n"
     ]
    }
   ],
   "source": [
    "A = int(input(\"A의 값은?\"))"
   ]
  },
  {
   "cell_type": "code",
   "execution_count": 20,
   "id": "40ce04dc",
   "metadata": {},
   "outputs": [
    {
     "name": "stdout",
     "output_type": "stream",
     "text": [
      "B의 값은?32\n"
     ]
    }
   ],
   "source": [
    "B = int(input(\"B의 값은?\"))"
   ]
  },
  {
   "cell_type": "code",
   "execution_count": 21,
   "id": "3e5e631d",
   "metadata": {},
   "outputs": [
    {
     "name": "stdout",
     "output_type": "stream",
     "text": [
      "n의 값은?3\n"
     ]
    }
   ],
   "source": [
    "n = int(input(\"n의 값은?\"))"
   ]
  },
  {
   "cell_type": "code",
   "execution_count": 22,
   "id": "0e96c235",
   "metadata": {},
   "outputs": [],
   "source": [
    "i = B/A"
   ]
  },
  {
   "cell_type": "code",
   "execution_count": 23,
   "id": "ca36d176",
   "metadata": {},
   "outputs": [],
   "source": [
    "t = math.floor(i*n)"
   ]
  },
  {
   "cell_type": "code",
   "execution_count": 24,
   "id": "29df0254",
   "metadata": {},
   "outputs": [
    {
     "name": "stdout",
     "output_type": "stream",
     "text": [
      "사과 n개의 무게는 다음과 같습니다 :  24\n"
     ]
    }
   ],
   "source": [
    "print(\"사과 n개의 무게는 다음과 같습니다 : \",t)"
   ]
  },
  {
   "cell_type": "code",
   "execution_count": null,
   "id": "3d7305e4",
   "metadata": {},
   "outputs": [],
   "source": []
  },
  {
   "cell_type": "code",
   "execution_count": null,
   "id": "e8b5f08b",
   "metadata": {},
   "outputs": [],
   "source": []
  }
 ],
 "metadata": {
  "kernelspec": {
   "display_name": "Python 3",
   "language": "python",
   "name": "python3"
  },
  "language_info": {
   "codemirror_mode": {
    "name": "ipython",
    "version": 3
   },
   "file_extension": ".py",
   "mimetype": "text/x-python",
   "name": "python",
   "nbconvert_exporter": "python",
   "pygments_lexer": "ipython3",
   "version": "3.8.8"
  }
 },
 "nbformat": 4,
 "nbformat_minor": 5
}
