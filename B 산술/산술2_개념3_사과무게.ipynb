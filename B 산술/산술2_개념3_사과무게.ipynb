{
 "cells": [
  {
   "cell_type": "code",
   "execution_count": 18,
   "id": "65df603c",
   "metadata": {},
   "outputs": [
    {
     "name": "stdout",
     "output_type": "stream",
     "text": [
      "\n",
      "사과 A개의 무게를 재었더니 Bkg 이었습니다.\n",
      "사과 C개 의 무게를 구하시오.\n",
      "소수점 두자리까지 구하시오.\n",
      "\n"
     ]
    }
   ],
   "source": [
    "print(\"\"\"\n",
    "사과 A개의 무게를 재었더니 Bkg 이었습니다.\n",
    "사과 C개 의 무게를 구하시오.\n",
    "소수점 두자리까지 구하시오.\n",
    "\"\"\")"
   ]
  },
  {
   "cell_type": "code",
   "execution_count": 19,
   "id": "b934255f",
   "metadata": {},
   "outputs": [
    {
     "name": "stdout",
     "output_type": "stream",
     "text": [
      "A의 값은?15\n"
     ]
    }
   ],
   "source": [
    "A = int(input(\"A의 값은?\"))"
   ]
  },
  {
   "cell_type": "code",
   "execution_count": 20,
   "id": "bcb1cc23",
   "metadata": {},
   "outputs": [
    {
     "name": "stdout",
     "output_type": "stream",
     "text": [
      "B의 값은?3\n"
     ]
    }
   ],
   "source": [
    "B = int(input(\"B의 값은?\"))"
   ]
  },
  {
   "cell_type": "code",
   "execution_count": 21,
   "id": "e62436a6",
   "metadata": {},
   "outputs": [
    {
     "name": "stdout",
     "output_type": "stream",
     "text": [
      "C의 값은?3\n"
     ]
    }
   ],
   "source": [
    "C = int(input(\"C의 값은?\"))"
   ]
  },
  {
   "cell_type": "code",
   "execution_count": 22,
   "id": "7cef06af",
   "metadata": {},
   "outputs": [
    {
     "name": "stdout",
     "output_type": "stream",
     "text": [
      "0.2\n"
     ]
    }
   ],
   "source": [
    "m = B/A\n",
    "print(m)"
   ]
  },
  {
   "cell_type": "code",
   "execution_count": 23,
   "id": "b0bb7704",
   "metadata": {},
   "outputs": [],
   "source": [
    "n = round(m*C,1)"
   ]
  },
  {
   "cell_type": "code",
   "execution_count": 24,
   "id": "a1c2464a",
   "metadata": {},
   "outputs": [
    {
     "name": "stdout",
     "output_type": "stream",
     "text": [
      "정답은  0.6 개 입니다\n"
     ]
    }
   ],
   "source": [
    "print(\"정답은 \",n,\"개 입니다\")"
   ]
  },
  {
   "cell_type": "code",
   "execution_count": null,
   "id": "4fad7ab0",
   "metadata": {},
   "outputs": [],
   "source": []
  },
  {
   "cell_type": "code",
   "execution_count": null,
   "id": "124a9b79",
   "metadata": {},
   "outputs": [],
   "source": []
  }
 ],
 "metadata": {
  "kernelspec": {
   "display_name": "Python 3",
   "language": "python",
   "name": "python3"
  },
  "language_info": {
   "codemirror_mode": {
    "name": "ipython",
    "version": 3
   },
   "file_extension": ".py",
   "mimetype": "text/x-python",
   "name": "python",
   "nbconvert_exporter": "python",
   "pygments_lexer": "ipython3",
   "version": "3.8.8"
  }
 },
 "nbformat": 4,
 "nbformat_minor": 5
}
