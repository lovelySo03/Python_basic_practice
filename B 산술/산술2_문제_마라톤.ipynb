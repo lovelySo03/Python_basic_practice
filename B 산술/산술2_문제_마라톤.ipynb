{
 "cells": [
  {
   "cell_type": "code",
   "execution_count": 27,
   "id": "7f52c46a",
   "metadata": {},
   "outputs": [
    {
     "name": "stdout",
     "output_type": "stream",
     "text": [
      "\n",
      "민수는 마라톤을 하면서 A시간 B분 동안 Cm를 달렸다.\n",
      "D분 동안 이동한 거리는 얼마인지 구하시오.\n",
      "소수점 두 자리까지 구하시오.\n",
      "\n"
     ]
    }
   ],
   "source": [
    "print(\"\"\"\n",
    "민수는 마라톤을 하면서 A시간 B분 동안 Cm를 달렸다.\n",
    "D분 동안 이동한 거리는 얼마인지 구하시오.\n",
    "소수점 두 자리까지 구하시오.\n",
    "\"\"\")"
   ]
  },
  {
   "cell_type": "code",
   "execution_count": 28,
   "id": "fc59c9de",
   "metadata": {},
   "outputs": [
    {
     "name": "stdout",
     "output_type": "stream",
     "text": [
      "A의 값은?2\n"
     ]
    }
   ],
   "source": [
    "A = int(input(\"A의 값은?\"))"
   ]
  },
  {
   "cell_type": "code",
   "execution_count": 29,
   "id": "5fe4924d",
   "metadata": {},
   "outputs": [
    {
     "name": "stdout",
     "output_type": "stream",
     "text": [
      "B의 값은?3\n"
     ]
    }
   ],
   "source": [
    "B = int(input(\"B의 값은?\"))"
   ]
  },
  {
   "cell_type": "code",
   "execution_count": 30,
   "id": "02d17dde",
   "metadata": {},
   "outputs": [
    {
     "name": "stdout",
     "output_type": "stream",
     "text": [
      "C의 값은?13828\n"
     ]
    }
   ],
   "source": [
    "C = int(input(\"C의 값은?\"))"
   ]
  },
  {
   "cell_type": "code",
   "execution_count": 31,
   "id": "893c45d0",
   "metadata": {},
   "outputs": [
    {
     "name": "stdout",
     "output_type": "stream",
     "text": [
      "D의 값은?3\n"
     ]
    }
   ],
   "source": [
    "D = int(input(\"D의 값은?\"))"
   ]
  },
  {
   "cell_type": "code",
   "execution_count": 32,
   "id": "bc23ef09",
   "metadata": {},
   "outputs": [],
   "source": [
    "hour = A*60 + B"
   ]
  },
  {
   "cell_type": "code",
   "execution_count": 33,
   "id": "2d446cd7",
   "metadata": {},
   "outputs": [],
   "source": [
    "init = C/hour"
   ]
  },
  {
   "cell_type": "code",
   "execution_count": 34,
   "id": "339f2e7c",
   "metadata": {},
   "outputs": [],
   "source": [
    "distance = round(D*init, 2)"
   ]
  },
  {
   "cell_type": "code",
   "execution_count": 35,
   "id": "8ab171b2",
   "metadata": {},
   "outputs": [
    {
     "name": "stdout",
     "output_type": "stream",
     "text": [
      "정답은  337.27 입니다\n"
     ]
    }
   ],
   "source": [
    "print(\"정답은 \",distance,\"입니다\" )"
   ]
  },
  {
   "cell_type": "code",
   "execution_count": 37,
   "id": "2ba51660",
   "metadata": {},
   "outputs": [],
   "source": [
    "distance2 = round(D*init, 3)"
   ]
  },
  {
   "cell_type": "code",
   "execution_count": 38,
   "id": "a8d50170",
   "metadata": {},
   "outputs": [
    {
     "name": "stdout",
     "output_type": "stream",
     "text": [
      "정답은  337.268 입니다\n"
     ]
    }
   ],
   "source": [
    "print(\"정답은 \",distance2,\"입니다\" )"
   ]
  },
  {
   "cell_type": "code",
   "execution_count": null,
   "id": "6832bfce",
   "metadata": {},
   "outputs": [],
   "source": []
  }
 ],
 "metadata": {
  "kernelspec": {
   "display_name": "Python 3",
   "language": "python",
   "name": "python3"
  },
  "language_info": {
   "codemirror_mode": {
    "name": "ipython",
    "version": 3
   },
   "file_extension": ".py",
   "mimetype": "text/x-python",
   "name": "python",
   "nbconvert_exporter": "python",
   "pygments_lexer": "ipython3",
   "version": "3.8.8"
  }
 },
 "nbformat": 4,
 "nbformat_minor": 5
}
