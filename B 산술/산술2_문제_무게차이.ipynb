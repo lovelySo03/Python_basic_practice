{
 "cells": [
  {
   "cell_type": "code",
   "execution_count": 21,
   "id": "332b3b39",
   "metadata": {},
   "outputs": [
    {
     "name": "stdout",
     "output_type": "stream",
     "text": [
      "\n",
      "사과 A개는 Bg이고, 귤 C개는 Dg이다.\n",
      "사과 1개의 무게 와 귤 1개의 무게의 차이는 얼마인지 구하시오. \n",
      "단, 같은 종류의 과일의 무게는 동일하다. \n",
      "\n"
     ]
    }
   ],
   "source": [
    "print(\"\"\"\n",
    "사과 A개는 Bg이고, 귤 C개는 Dg이다.\n",
    "사과 1개의 무게 와 귤 1개의 무게의 차이는 얼마인지 구하시오. \n",
    "단, 같은 종류의 과일의 무게는 동일하다. \n",
    "\"\"\")"
   ]
  },
  {
   "cell_type": "code",
   "execution_count": 22,
   "id": "74b2ad94",
   "metadata": {},
   "outputs": [
    {
     "name": "stdout",
     "output_type": "stream",
     "text": [
      "A의 값은?3\n"
     ]
    }
   ],
   "source": [
    "A = int(input(\"A의 값은?\"))"
   ]
  },
  {
   "cell_type": "code",
   "execution_count": 23,
   "id": "149ba0eb",
   "metadata": {},
   "outputs": [
    {
     "name": "stdout",
     "output_type": "stream",
     "text": [
      "B의 값은?12\n"
     ]
    }
   ],
   "source": [
    "B = int(input(\"B의 값은?\"))"
   ]
  },
  {
   "cell_type": "code",
   "execution_count": 24,
   "id": "4a22c5e8",
   "metadata": {},
   "outputs": [
    {
     "name": "stdout",
     "output_type": "stream",
     "text": [
      "C의 값은?4\n"
     ]
    }
   ],
   "source": [
    "C = int(input(\"C의 값은?\"))"
   ]
  },
  {
   "cell_type": "code",
   "execution_count": 25,
   "id": "c37bed6c",
   "metadata": {},
   "outputs": [
    {
     "name": "stdout",
     "output_type": "stream",
     "text": [
      "D의 값은?32\n"
     ]
    }
   ],
   "source": [
    "D = int(input(\"D의 값은?\"))"
   ]
  },
  {
   "cell_type": "code",
   "execution_count": 26,
   "id": "462c9c8d",
   "metadata": {},
   "outputs": [],
   "source": [
    "apple = B/A\n",
    "orange = D/C"
   ]
  },
  {
   "cell_type": "code",
   "execution_count": 27,
   "id": "ad2310cd",
   "metadata": {},
   "outputs": [
    {
     "name": "stdout",
     "output_type": "stream",
     "text": [
      "4.0\n"
     ]
    }
   ],
   "source": [
    "if apple > orange:\n",
    "    diff1 = apple-orange\n",
    "    print(diff1)\n",
    "\n",
    "elif apple==orange:\n",
    "    print(\"0\")\n",
    "\n",
    "else:\n",
    "    diff2 = orange-apple\n",
    "    print(diff2)"
   ]
  },
  {
   "cell_type": "code",
   "execution_count": null,
   "id": "2ddd684f",
   "metadata": {},
   "outputs": [],
   "source": []
  }
 ],
 "metadata": {
  "kernelspec": {
   "display_name": "Python 3",
   "language": "python",
   "name": "python3"
  },
  "language_info": {
   "codemirror_mode": {
    "name": "ipython",
    "version": 3
   },
   "file_extension": ".py",
   "mimetype": "text/x-python",
   "name": "python",
   "nbconvert_exporter": "python",
   "pygments_lexer": "ipython3",
   "version": "3.8.8"
  }
 },
 "nbformat": 4,
 "nbformat_minor": 5
}
