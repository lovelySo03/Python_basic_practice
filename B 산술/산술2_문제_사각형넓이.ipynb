{
 "cells": [
  {
   "cell_type": "code",
   "execution_count": 13,
   "id": "9f9ac505",
   "metadata": {},
   "outputs": [
    {
     "name": "stdout",
     "output_type": "stream",
     "text": [
      "\n",
      "가로가 A이고 세로가 B인 사각형 C개 + 1개의 반의 넓이를 구하시오. \n",
      "\n"
     ]
    }
   ],
   "source": [
    "print(\"\"\"\n",
    "가로가 A이고 세로가 B인 사각형 C개 + 1개의 반의 넓이를 구하시오. \n",
    "\"\"\")"
   ]
  },
  {
   "cell_type": "code",
   "execution_count": 14,
   "id": "e3dc58ab",
   "metadata": {},
   "outputs": [
    {
     "name": "stdout",
     "output_type": "stream",
     "text": [
      "A의 값은 얼마인가요?7\n"
     ]
    }
   ],
   "source": [
    "A = int(input(\"A의 값은 얼마인가요?\"))"
   ]
  },
  {
   "cell_type": "code",
   "execution_count": 15,
   "id": "ba8498b2",
   "metadata": {},
   "outputs": [
    {
     "name": "stdout",
     "output_type": "stream",
     "text": [
      "B의 값은 얼마인가요?7\n"
     ]
    }
   ],
   "source": [
    "B = int(input(\"B의 값은 얼마인가요?\"))"
   ]
  },
  {
   "cell_type": "code",
   "execution_count": 16,
   "id": "fdc3d15c",
   "metadata": {},
   "outputs": [
    {
     "name": "stdout",
     "output_type": "stream",
     "text": [
      "C의 값은 얼마인가요?3\n"
     ]
    }
   ],
   "source": [
    "C = int(input(\"C의 값은 얼마인가요?\"))"
   ]
  },
  {
   "cell_type": "code",
   "execution_count": 17,
   "id": "dc4beb74",
   "metadata": {},
   "outputs": [],
   "source": [
    "main = A*B*C\n",
    "sub = A*B/2\n",
    "total = main + sub"
   ]
  },
  {
   "cell_type": "code",
   "execution_count": 18,
   "id": "d8070f67",
   "metadata": {},
   "outputs": [
    {
     "name": "stdout",
     "output_type": "stream",
     "text": [
      "정답은 171.5 입니다\n"
     ]
    }
   ],
   "source": [
    "print(\"정답은\",total,\"입니다\")"
   ]
  },
  {
   "cell_type": "code",
   "execution_count": null,
   "id": "39d5235e",
   "metadata": {},
   "outputs": [],
   "source": []
  }
 ],
 "metadata": {
  "kernelspec": {
   "display_name": "Python 3",
   "language": "python",
   "name": "python3"
  },
  "language_info": {
   "codemirror_mode": {
    "name": "ipython",
    "version": 3
   },
   "file_extension": ".py",
   "mimetype": "text/x-python",
   "name": "python",
   "nbconvert_exporter": "python",
   "pygments_lexer": "ipython3",
   "version": "3.8.8"
  }
 },
 "nbformat": 4,
 "nbformat_minor": 5
}
