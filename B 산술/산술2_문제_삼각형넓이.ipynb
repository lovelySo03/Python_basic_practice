{
 "cells": [
  {
   "cell_type": "code",
   "execution_count": 8,
   "id": "0c8da301",
   "metadata": {},
   "outputs": [
    {
     "name": "stdout",
     "output_type": "stream",
     "text": [
      "\n",
      "가로가 A이고 세로가 B인 삼각형의 넓이를 구하시오. \n",
      "\n"
     ]
    }
   ],
   "source": [
    "print(\"\"\"\n",
    "가로가 A이고 세로가 B인 삼각형의 넓이를 구하시오. \n",
    "\"\"\")"
   ]
  },
  {
   "cell_type": "code",
   "execution_count": 9,
   "id": "eabf7e44",
   "metadata": {},
   "outputs": [
    {
     "name": "stdout",
     "output_type": "stream",
     "text": [
      "A의 값은?3\n"
     ]
    }
   ],
   "source": [
    "A = int(input(\"A의 값은?\"))"
   ]
  },
  {
   "cell_type": "code",
   "execution_count": 10,
   "id": "afc3207c",
   "metadata": {},
   "outputs": [
    {
     "name": "stdout",
     "output_type": "stream",
     "text": [
      "B의 값은?7\n"
     ]
    }
   ],
   "source": [
    "B = int(input(\"B의 값은?\"))"
   ]
  },
  {
   "cell_type": "code",
   "execution_count": 11,
   "id": "2ab8e4e3",
   "metadata": {},
   "outputs": [],
   "source": [
    "area = A*B/2"
   ]
  },
  {
   "cell_type": "code",
   "execution_count": 12,
   "id": "884eea83",
   "metadata": {},
   "outputs": [
    {
     "name": "stdout",
     "output_type": "stream",
     "text": [
      "정답은  10.5 입니다\n"
     ]
    }
   ],
   "source": [
    "print(\"정답은 \",area,\"입니다\")"
   ]
  },
  {
   "cell_type": "code",
   "execution_count": null,
   "id": "e159b021",
   "metadata": {},
   "outputs": [],
   "source": []
  }
 ],
 "metadata": {
  "kernelspec": {
   "display_name": "Python 3",
   "language": "python",
   "name": "python3"
  },
  "language_info": {
   "codemirror_mode": {
    "name": "ipython",
    "version": 3
   },
   "file_extension": ".py",
   "mimetype": "text/x-python",
   "name": "python",
   "nbconvert_exporter": "python",
   "pygments_lexer": "ipython3",
   "version": "3.8.8"
  }
 },
 "nbformat": 4,
 "nbformat_minor": 5
}
