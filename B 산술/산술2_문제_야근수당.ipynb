{
 "cells": [
  {
   "cell_type": "code",
   "execution_count": 15,
   "id": "4db6de87",
   "metadata": {},
   "outputs": [
    {
     "name": "stdout",
     "output_type": "stream",
     "text": [
      "\n",
      "철수는 하루 A시간 아르바이트하고 있다.\n",
      "아르바이트 수당은 한 시간에 B원이다. \n",
      "\n",
      "오늘 철수는 C시간 추가 근무하여 총 D시간 근무하였다.\n",
      "오늘 추가 근무한 C시간은 야근수당을 받게 되었다.\n",
      "오늘 철수가 받을 총 수당은 얼마인지 구하시오.\n",
      "\n",
      "(단, 야근수당은 일반수당의 1.5배이다.)\n",
      "\n",
      "\n"
     ]
    }
   ],
   "source": [
    "print(\"\"\"\n",
    "철수는 하루 A시간 아르바이트하고 있다.\n",
    "아르바이트 수당은 한 시간에 B원이다. \n",
    "\n",
    "오늘 철수는 C시간 추가 근무하여 총 D시간 근무하였다.\n",
    "오늘 추가 근무한 C시간은 야근수당을 받게 되었다.\n",
    "오늘 철수가 받을 총 수당은 얼마인지 구하시오.\n",
    "\n",
    "(단, 야근수당은 일반수당의 1.5배이다.)\n",
    "\n",
    "\"\"\")"
   ]
  },
  {
   "cell_type": "code",
   "execution_count": 16,
   "id": "7414be2d",
   "metadata": {},
   "outputs": [
    {
     "name": "stdout",
     "output_type": "stream",
     "text": [
      "A의 값은?8\n"
     ]
    }
   ],
   "source": [
    "A = int(input(\"A의 값은?\"))"
   ]
  },
  {
   "cell_type": "code",
   "execution_count": 17,
   "id": "20756747",
   "metadata": {},
   "outputs": [
    {
     "name": "stdout",
     "output_type": "stream",
     "text": [
      "B의 값은?9400\n"
     ]
    }
   ],
   "source": [
    "B = int(input(\"B의 값은?\"))"
   ]
  },
  {
   "cell_type": "code",
   "execution_count": 18,
   "id": "ceaea283",
   "metadata": {},
   "outputs": [
    {
     "name": "stdout",
     "output_type": "stream",
     "text": [
      "C의 값은?4\n"
     ]
    }
   ],
   "source": [
    "C = int(input(\"C의 값은?\"))"
   ]
  },
  {
   "cell_type": "code",
   "execution_count": 19,
   "id": "c2380f3a",
   "metadata": {},
   "outputs": [
    {
     "name": "stdout",
     "output_type": "stream",
     "text": [
      "D의 값은?12\n"
     ]
    }
   ],
   "source": [
    "D = int(input(\"D의 값은?\"))"
   ]
  },
  {
   "cell_type": "code",
   "execution_count": 20,
   "id": "0bdd352f",
   "metadata": {},
   "outputs": [],
   "source": [
    "temp = A*B\n",
    "plus = C*B*1.5\n",
    "total = temp + plus"
   ]
  },
  {
   "cell_type": "code",
   "execution_count": 21,
   "id": "b7955f6a",
   "metadata": {},
   "outputs": [
    {
     "name": "stdout",
     "output_type": "stream",
     "text": [
      "정답은 131600.0 입니다\n"
     ]
    }
   ],
   "source": [
    "print(\"정답은\",total,\"입니다\")"
   ]
  },
  {
   "cell_type": "code",
   "execution_count": null,
   "id": "6692b424",
   "metadata": {},
   "outputs": [],
   "source": []
  }
 ],
 "metadata": {
  "kernelspec": {
   "display_name": "Python 3",
   "language": "python",
   "name": "python3"
  },
  "language_info": {
   "codemirror_mode": {
    "name": "ipython",
    "version": 3
   },
   "file_extension": ".py",
   "mimetype": "text/x-python",
   "name": "python",
   "nbconvert_exporter": "python",
   "pygments_lexer": "ipython3",
   "version": "3.8.8"
  }
 },
 "nbformat": 4,
 "nbformat_minor": 5
}
