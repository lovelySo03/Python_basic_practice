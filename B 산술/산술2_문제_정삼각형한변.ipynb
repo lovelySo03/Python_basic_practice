{
 "cells": [
  {
   "cell_type": "code",
   "execution_count": 1,
   "id": "be29a886",
   "metadata": {},
   "outputs": [
    {
     "name": "stdout",
     "output_type": "stream",
     "text": [
      "\n",
      "끈 Am 를 모두 사용하여 정삼각형 모양한개를 만들었습니다.\n",
      "이 정삼각형의 한변의 길이를 구하시오.\n",
      "소수점 두자리까지 구하시오.\n",
      "\n"
     ]
    }
   ],
   "source": [
    "print(\"\"\"\n",
    "끈 Am 를 모두 사용하여 정삼각형 모양한개를 만들었습니다.\n",
    "이 정삼각형의 한변의 길이를 구하시오.\n",
    "소수점 두자리까지 구하시오.\n",
    "\"\"\")"
   ]
  },
  {
   "cell_type": "code",
   "execution_count": 2,
   "id": "9aa88aab",
   "metadata": {},
   "outputs": [
    {
     "name": "stdout",
     "output_type": "stream",
     "text": [
      "A의 값은?4\n"
     ]
    }
   ],
   "source": [
    "A = int(input(\"A의 값은?\"))"
   ]
  },
  {
   "cell_type": "code",
   "execution_count": 3,
   "id": "d10d73c9",
   "metadata": {},
   "outputs": [],
   "source": [
    "line = round(A/3,2)"
   ]
  },
  {
   "cell_type": "code",
   "execution_count": 4,
   "id": "37226111",
   "metadata": {},
   "outputs": [
    {
     "name": "stdout",
     "output_type": "stream",
     "text": [
      "정답은 1.33 입니다\n"
     ]
    }
   ],
   "source": [
    "print(\"정답은\",line,\"입니다\")"
   ]
  },
  {
   "cell_type": "code",
   "execution_count": null,
   "id": "2b9962e3",
   "metadata": {},
   "outputs": [],
   "source": []
  }
 ],
 "metadata": {
  "kernelspec": {
   "display_name": "Python 3",
   "language": "python",
   "name": "python3"
  },
  "language_info": {
   "codemirror_mode": {
    "name": "ipython",
    "version": 3
   },
   "file_extension": ".py",
   "mimetype": "text/x-python",
   "name": "python",
   "nbconvert_exporter": "python",
   "pygments_lexer": "ipython3",
   "version": "3.8.8"
  }
 },
 "nbformat": 4,
 "nbformat_minor": 5
}
