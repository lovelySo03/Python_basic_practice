{
 "cells": [
  {
   "cell_type": "code",
   "execution_count": 7,
   "id": "93c098aa",
   "metadata": {},
   "outputs": [
    {
     "name": "stdout",
     "output_type": "stream",
     "text": [
      "\n",
      "철수는 친구의 생일 선물로 가격이 4000\n",
      "원인 필통 1개와 \n",
      "가격이 700원인 공책 A권을 사려고 한다. \n",
      "철수는 13000원을 가지고 있을 때,\n",
      "공책은 최대한 몇 권을 살 수 있을지 구하시오.\n",
      "공책을 최대로 구입한 후 나머지 금액도 출력하시오.\n",
      "\n"
     ]
    }
   ],
   "source": [
    "print(\"\"\"\n",
    "철수는 친구의 생일 선물로 가격이 4000\n",
    "원인 필통 1개와 \n",
    "가격이 700원인 공책 A권을 사려고 한다. \n",
    "철수는 13000원을 가지고 있을 때,\n",
    "공책은 최대한 몇 권을 살 수 있을지 구하시오.\n",
    "공책을 최대로 구입한 후 나머지 금액도 출력하시오.\n",
    "\"\"\")"
   ]
  },
  {
   "cell_type": "code",
   "execution_count": 8,
   "id": "149461d5",
   "metadata": {},
   "outputs": [],
   "source": [
    "# 파이썬은 input을 무조건 문자열로만 받는다 "
   ]
  },
  {
   "cell_type": "code",
   "execution_count": 9,
   "id": "99345972",
   "metadata": {
    "scrolled": true
   },
   "outputs": [
    {
     "name": "stdout",
     "output_type": "stream",
     "text": [
      "9000\n"
     ]
    }
   ],
   "source": [
    "# 철수가 사용할 수 있는 금액\n",
    "u = 13000-4000\n",
    "print(u)"
   ]
  },
  {
   "cell_type": "code",
   "execution_count": 10,
   "id": "91427718",
   "metadata": {},
   "outputs": [
    {
     "name": "stdout",
     "output_type": "stream",
     "text": [
      "공책은 최대한 12 권 살 수 있다\n"
     ]
    }
   ],
   "source": [
    "t = 9000\n",
    "a = 0\n",
    "\n",
    "while True:\n",
    "    a = a+1\n",
    "    final = t - a*700\n",
    "    if final < 0:\n",
    "        break\n",
    "answer = a-1\n",
    "        \n",
    "print(\"공책은 최대한\",answer,\"권 살 수 있다\")\n",
    "        "
   ]
  },
  {
   "cell_type": "code",
   "execution_count": 11,
   "id": "a9a9a7b9",
   "metadata": {},
   "outputs": [
    {
     "name": "stdout",
     "output_type": "stream",
     "text": [
      "공책을 최대로 구입한 후 나머지 금액은 600 이다\n"
     ]
    }
   ],
   "source": [
    "remain = t- (a-1)*700\n",
    "\n",
    "print(\"공책을 최대로 구입한 후 나머지 금액은\",remain,\"이다\")"
   ]
  },
  {
   "cell_type": "code",
   "execution_count": null,
   "id": "6f68b19b",
   "metadata": {},
   "outputs": [],
   "source": []
  },
  {
   "cell_type": "code",
   "execution_count": null,
   "id": "6e5da49f",
   "metadata": {},
   "outputs": [],
   "source": []
  }
 ],
 "metadata": {
  "kernelspec": {
   "display_name": "Python 3",
   "language": "python",
   "name": "python3"
  },
  "language_info": {
   "codemirror_mode": {
    "name": "ipython",
    "version": 3
   },
   "file_extension": ".py",
   "mimetype": "text/x-python",
   "name": "python",
   "nbconvert_exporter": "python",
   "pygments_lexer": "ipython3",
   "version": "3.8.8"
  }
 },
 "nbformat": 4,
 "nbformat_minor": 5
}
