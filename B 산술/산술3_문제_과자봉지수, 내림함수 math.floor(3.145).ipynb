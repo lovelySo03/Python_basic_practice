{
 "cells": [
  {
   "cell_type": "code",
   "execution_count": 16,
   "id": "e8b3f28e",
   "metadata": {},
   "outputs": [],
   "source": [
    "import math"
   ]
  },
  {
   "cell_type": "code",
   "execution_count": 17,
   "id": "0d3db3ce",
   "metadata": {},
   "outputs": [
    {
     "name": "stdout",
     "output_type": "stream",
     "text": [
      "\n",
      "철수는 과자를 A봉지를 가지고 있다. \n",
      "철수가 민수와 영희와 과자봉지를 똑같이 나누어 가지려고 한다.\n",
      "한 사람당 가질 수 있는 과자봉지 수를 구하시오.\n",
      "\n"
     ]
    }
   ],
   "source": [
    "print(\"\"\"\n",
    "철수는 과자를 A봉지를 가지고 있다. \n",
    "철수가 민수와 영희와 과자봉지를 똑같이 나누어 가지려고 한다.\n",
    "한 사람당 가질 수 있는 과자봉지 수를 구하시오.\n",
    "\"\"\")"
   ]
  },
  {
   "cell_type": "code",
   "execution_count": 18,
   "id": "233da190",
   "metadata": {},
   "outputs": [
    {
     "name": "stdout",
     "output_type": "stream",
     "text": [
      "A의 값은?19\n"
     ]
    }
   ],
   "source": [
    "A = int(input(\"A의 값은?\"))"
   ]
  },
  {
   "cell_type": "code",
   "execution_count": 19,
   "id": "f81a2864",
   "metadata": {},
   "outputs": [],
   "source": [
    "B = math.floor(A/3)"
   ]
  },
  {
   "cell_type": "code",
   "execution_count": 20,
   "id": "560e3b5b",
   "metadata": {},
   "outputs": [
    {
     "name": "stdout",
     "output_type": "stream",
     "text": [
      "정답은 6 개 입니다\n"
     ]
    }
   ],
   "source": [
    "print(\"정답은\",B,\"개 입니다\")"
   ]
  },
  {
   "cell_type": "code",
   "execution_count": null,
   "id": "c2d98530",
   "metadata": {},
   "outputs": [],
   "source": []
  },
  {
   "cell_type": "code",
   "execution_count": null,
   "id": "49a92901",
   "metadata": {},
   "outputs": [],
   "source": []
  },
  {
   "cell_type": "code",
   "execution_count": null,
   "id": "e570305e",
   "metadata": {},
   "outputs": [],
   "source": []
  },
  {
   "cell_type": "code",
   "execution_count": null,
   "id": "5a8faad1",
   "metadata": {},
   "outputs": [],
   "source": []
  }
 ],
 "metadata": {
  "kernelspec": {
   "display_name": "Python 3",
   "language": "python",
   "name": "python3"
  },
  "language_info": {
   "codemirror_mode": {
    "name": "ipython",
    "version": 3
   },
   "file_extension": ".py",
   "mimetype": "text/x-python",
   "name": "python",
   "nbconvert_exporter": "python",
   "pygments_lexer": "ipython3",
   "version": "3.8.8"
  }
 },
 "nbformat": 4,
 "nbformat_minor": 5
}
