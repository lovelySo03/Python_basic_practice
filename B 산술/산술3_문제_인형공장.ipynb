{
 "cells": [
  {
   "cell_type": "code",
   "execution_count": 1,
   "id": "5e5fff4b",
   "metadata": {},
   "outputs": [
    {
     "name": "stdout",
     "output_type": "stream",
     "text": [
      "\n",
      "인형 공장에서 인형 10개를 생산하는데,\n",
      "불량을 고려해 1개씩 더 만든다.\n",
      "인형을 A개 주문받았을 때,\n",
      "인형은 총 몇 개 생산해야 하는지 구하시오.\n",
      "\n"
     ]
    }
   ],
   "source": [
    "import statistics\n",
    "import math\n",
    "\n",
    "print(\"\"\"\n",
    "인형 공장에서 인형 10개를 생산하는데,\n",
    "불량을 고려해 1개씩 더 만든다.\n",
    "인형을 A개 주문받았을 때,\n",
    "인형은 총 몇 개 생산해야 하는지 구하시오.\n",
    "\"\"\")"
   ]
  },
  {
   "cell_type": "code",
   "execution_count": 2,
   "id": "35fff6aa",
   "metadata": {},
   "outputs": [
    {
     "name": "stdout",
     "output_type": "stream",
     "text": [
      "A의 값은?1200\n"
     ]
    }
   ],
   "source": [
    "A = int(input(\"A의 값은?\"))\n",
    "\n",
    "plus = math.floor(A/10)\n",
    "total = A + plus"
   ]
  },
  {
   "cell_type": "code",
   "execution_count": 3,
   "id": "97211cb8",
   "metadata": {},
   "outputs": [
    {
     "name": "stdout",
     "output_type": "stream",
     "text": [
      "정답은 1320 입니다\n"
     ]
    }
   ],
   "source": [
    "print(\"정답은\",total,\"입니다\")"
   ]
  },
  {
   "cell_type": "code",
   "execution_count": null,
   "id": "4446d512",
   "metadata": {},
   "outputs": [],
   "source": []
  },
  {
   "cell_type": "code",
   "execution_count": null,
   "id": "468f0b3f",
   "metadata": {},
   "outputs": [],
   "source": []
  },
  {
   "cell_type": "code",
   "execution_count": null,
   "id": "cd9cfe02",
   "metadata": {},
   "outputs": [],
   "source": []
  }
 ],
 "metadata": {
  "kernelspec": {
   "display_name": "Python 3",
   "language": "python",
   "name": "python3"
  },
  "language_info": {
   "codemirror_mode": {
    "name": "ipython",
    "version": 3
   },
   "file_extension": ".py",
   "mimetype": "text/x-python",
   "name": "python",
   "nbconvert_exporter": "python",
   "pygments_lexer": "ipython3",
   "version": "3.8.8"
  }
 },
 "nbformat": 4,
 "nbformat_minor": 5
}
