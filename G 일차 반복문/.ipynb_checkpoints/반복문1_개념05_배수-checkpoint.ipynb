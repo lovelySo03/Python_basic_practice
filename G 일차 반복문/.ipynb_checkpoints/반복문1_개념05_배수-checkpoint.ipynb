{
 "cells": [
  {
   "cell_type": "code",
   "execution_count": 3,
   "id": "729a9ba5",
   "metadata": {},
   "outputs": [
    {
     "name": "stdout",
     "output_type": "stream",
     "text": [
      "\n",
      "[문제] \n",
      "아래 조건을 만족하는 식을 작성하시오.\n",
      "\n",
      "[조건1] 1~10까지 반복문을 활용해서 숫자를 출력한다.\n",
      "[조건2] 위 숫자 중 3의 배수일 때는 \"삼의 배수\"를 출력한다.\n",
      "\n"
     ]
    }
   ],
   "source": [
    "print(\"\"\"\n",
    "[문제] \n",
    "아래 조건을 만족하는 식을 작성하시오.\n",
    "\n",
    "[조건1] 1~10까지 반복문을 활용해서 숫자를 출력한다.\n",
    "[조건2] 위 숫자 중 3의 배수일 때는 \"삼의 배수\"를 출력한다.\n",
    "\"\"\")"
   ]
  },
  {
   "cell_type": "code",
   "execution_count": 10,
   "id": "7620a059",
   "metadata": {},
   "outputs": [
    {
     "name": "stdout",
     "output_type": "stream",
     "text": [
      "1\n",
      "2\n",
      "3 : 3의 배수입니다\n",
      "4\n",
      "5\n",
      "6 : 3의 배수입니다\n",
      "7\n",
      "8\n",
      "9 : 3의 배수입니다\n",
      "10\n"
     ]
    }
   ],
   "source": [
    "n = 1\n",
    "while n <= 10:\n",
    "    if n%3 == 0:\n",
    "        print(n,\": 3의 배수입니다\")\n",
    "    else:\n",
    "        print(n)\n",
    "    n += 1"
   ]
  },
  {
   "cell_type": "code",
   "execution_count": null,
   "id": "329c6540",
   "metadata": {},
   "outputs": [],
   "source": []
  },
  {
   "cell_type": "code",
   "execution_count": null,
   "id": "02817962",
   "metadata": {},
   "outputs": [],
   "source": []
  },
  {
   "cell_type": "code",
   "execution_count": null,
   "id": "bc39b5d4",
   "metadata": {},
   "outputs": [],
   "source": []
  },
  {
   "cell_type": "code",
   "execution_count": null,
   "id": "52d3c4cc",
   "metadata": {},
   "outputs": [],
   "source": []
  },
  {
   "cell_type": "code",
   "execution_count": null,
   "id": "ba2898f6",
   "metadata": {},
   "outputs": [],
   "source": []
  }
 ],
 "metadata": {
  "kernelspec": {
   "display_name": "Python 3",
   "language": "python",
   "name": "python3"
  },
  "language_info": {
   "codemirror_mode": {
    "name": "ipython",
    "version": 3
   },
   "file_extension": ".py",
   "mimetype": "text/x-python",
   "name": "python",
   "nbconvert_exporter": "python",
   "pygments_lexer": "ipython3",
   "version": "3.8.8"
  }
 },
 "nbformat": 4,
 "nbformat_minor": 5
}
