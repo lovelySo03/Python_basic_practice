{
 "cells": [
  {
   "cell_type": "code",
   "execution_count": 1,
   "id": "a0cb00d3",
   "metadata": {},
   "outputs": [
    {
     "name": "stdout",
     "output_type": "stream",
     "text": [
      "\n",
      "증감식 종류 (아래 2종류는 서로 같은 뜻이다\n",
      "[1] i = i + 1\n",
      "[2] i += 1\n",
      "\n"
     ]
    }
   ],
   "source": [
    "print(\"\"\"\n",
    "증감식 종류 (아래 2종류는 서로 같은 뜻이다\n",
    "[1] i = i + 1\n",
    "[2] i += 1\n",
    "\"\"\")"
   ]
  },
  {
   "cell_type": "code",
   "execution_count": 2,
   "id": "39f40aa0",
   "metadata": {},
   "outputs": [
    {
     "name": "stdout",
     "output_type": "stream",
     "text": [
      "a = 2\n"
     ]
    }
   ],
   "source": [
    "a = 1\n",
    "a = a+1\n",
    "print(\"a =\",a)"
   ]
  },
  {
   "cell_type": "code",
   "execution_count": 3,
   "id": "26e7c41d",
   "metadata": {},
   "outputs": [
    {
     "name": "stdout",
     "output_type": "stream",
     "text": [
      "b = 2\n"
     ]
    }
   ],
   "source": [
    "b = 1\n",
    "b += 1\n",
    "print(\"b =\",b)"
   ]
  },
  {
   "cell_type": "code",
   "execution_count": 7,
   "id": "a10f5385",
   "metadata": {},
   "outputs": [
    {
     "name": "stdout",
     "output_type": "stream",
     "text": [
      "c = 4\n"
     ]
    }
   ],
   "source": [
    "c = 5\n",
    "c = c-1\n",
    "print(\"c =\",c)"
   ]
  },
  {
   "cell_type": "code",
   "execution_count": 8,
   "id": "e4cce5c0",
   "metadata": {},
   "outputs": [
    {
     "name": "stdout",
     "output_type": "stream",
     "text": [
      "d = 4\n"
     ]
    }
   ],
   "source": [
    "d = 5\n",
    "d -= 1\n",
    "print(\"d =\",d)"
   ]
  },
  {
   "cell_type": "code",
   "execution_count": null,
   "id": "4e2b8b37",
   "metadata": {},
   "outputs": [],
   "source": []
  }
 ],
 "metadata": {
  "kernelspec": {
   "display_name": "Python 3",
   "language": "python",
   "name": "python3"
  },
  "language_info": {
   "codemirror_mode": {
    "name": "ipython",
    "version": 3
   },
   "file_extension": ".py",
   "mimetype": "text/x-python",
   "name": "python",
   "nbconvert_exporter": "python",
   "pygments_lexer": "ipython3",
   "version": "3.8.8"
  }
 },
 "nbformat": 4,
 "nbformat_minor": 5
}
