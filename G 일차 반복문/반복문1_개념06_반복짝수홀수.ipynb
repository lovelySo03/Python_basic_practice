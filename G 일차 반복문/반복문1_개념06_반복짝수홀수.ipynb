{
 "cells": [
  {
   "cell_type": "code",
   "execution_count": null,
   "id": "53fd55d0",
   "metadata": {},
   "outputs": [],
   "source": [
    "print(\"\"\"\n",
    "[문제] 아래 조건을 만족하는 식을 작성하시오.\n",
    "[조건1] 1~10까지 반복문을 활용해서 숫자를 출력한다.\n",
    "[조건2] 숫자가 홀수일때는 숫자 대신 \"홀수\"를 출력한다.\n",
    "\"\"\")"
   ]
  },
  {
   "cell_type": "code",
   "execution_count": 4,
   "id": "209656f3",
   "metadata": {},
   "outputs": [
    {
     "name": "stdout",
     "output_type": "stream",
     "text": [
      "1 홀수\n",
      "2\n",
      "3 홀수\n",
      "4\n",
      "5 홀수\n",
      "6\n",
      "7 홀수\n",
      "8\n",
      "9 홀수\n",
      "10\n"
     ]
    }
   ],
   "source": [
    "for x in range(1,11):\n",
    "    if x%2 == 0:\n",
    "        print(x)\n",
    "    else:\n",
    "        print(x,\"홀수\")\n",
    "    x += 1"
   ]
  },
  {
   "cell_type": "code",
   "execution_count": null,
   "id": "4abec560",
   "metadata": {},
   "outputs": [],
   "source": []
  },
  {
   "cell_type": "code",
   "execution_count": null,
   "id": "0f905473",
   "metadata": {},
   "outputs": [],
   "source": []
  },
  {
   "cell_type": "code",
   "execution_count": null,
   "id": "eaa71f19",
   "metadata": {},
   "outputs": [],
   "source": []
  }
 ],
 "metadata": {
  "kernelspec": {
   "display_name": "Python 3",
   "language": "python",
   "name": "python3"
  },
  "language_info": {
   "codemirror_mode": {
    "name": "ipython",
    "version": 3
   },
   "file_extension": ".py",
   "mimetype": "text/x-python",
   "name": "python",
   "nbconvert_exporter": "python",
   "pygments_lexer": "ipython3",
   "version": "3.8.8"
  }
 },
 "nbformat": 4,
 "nbformat_minor": 5
}
