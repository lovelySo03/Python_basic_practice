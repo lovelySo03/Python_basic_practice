{
 "cells": [
  {
   "cell_type": "markdown",
   "id": "2db78379",
   "metadata": {},
   "source": [
    "\t[문제] \n",
    "    numberList는 학생들의 번호를 저장한 리스트이다.\n",
    "\tscoreList는 학생들의 점수를 저장한 리스트이다.\n",
    " \t랜덤으로 한 학생의 학번과 점수를 출력하시오."
   ]
  },
  {
   "cell_type": "code",
   "execution_count": 4,
   "id": "4d8fe4fb",
   "metadata": {},
   "outputs": [
    {
     "name": "stdout",
     "output_type": "stream",
     "text": [
      "numberList : 1003\n",
      "scoreList : 45\n"
     ]
    }
   ],
   "source": [
    "import random\n",
    "\n",
    "numberList = [1001, 1002, 1003, 1004, 1005]\n",
    "scoreList =   [87, 11, 45, 98, 23]\n",
    "\n",
    "\n",
    "a = random.randint(0, 4)\n",
    "b = random.randint(0, 4)\n",
    "\n",
    "print(\"numberList :\", numberList[a])\n",
    "print(\"scoreList :\", scoreList[a])\n"
   ]
  },
  {
   "cell_type": "code",
   "execution_count": null,
   "id": "80800109",
   "metadata": {},
   "outputs": [],
   "source": []
  }
 ],
 "metadata": {
  "kernelspec": {
   "display_name": "Python 3",
   "language": "python",
   "name": "python3"
  },
  "language_info": {
   "codemirror_mode": {
    "name": "ipython",
    "version": 3
   },
   "file_extension": ".py",
   "mimetype": "text/x-python",
   "name": "python",
   "nbconvert_exporter": "python",
   "pygments_lexer": "ipython3",
   "version": "3.8.8"
  }
 },
 "nbformat": 4,
 "nbformat_minor": 5
}
