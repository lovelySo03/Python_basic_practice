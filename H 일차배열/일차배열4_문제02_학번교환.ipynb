{
 "cells": [
  {
   "cell_type": "markdown",
   "id": "3b53ec1d",
   "metadata": {},
   "source": [
    "\t[문제] \n",
    "\t\tnumberList 는 학생들의 번호를 저장한 리스트이다.\n",
    "\t\tscoreList 는 학생들의 점수를 저장한 리스트이다.\n",
    " \t\t실수로 학생들의 점수가 한 칸씩 밀렸다. \n",
    "\t\t학생들의 점수를 한 칸씩 앞으로 당기고 \n",
    "\t\t맨 앞의 점수는 맨 뒤에 저장하시오.\n",
    "\t"
   ]
  },
  {
   "cell_type": "code",
   "execution_count": 1,
   "id": "7a39b5ab",
   "metadata": {},
   "outputs": [],
   "source": [
    "numberList = [1001, 1002, 1003, 1004, 1005]\n",
    "scoreList =  [87, 11, 45, 98, 23]"
   ]
  },
  {
   "cell_type": "code",
   "execution_count": 9,
   "id": "1e7d1264",
   "metadata": {},
   "outputs": [
    {
     "name": "stdout",
     "output_type": "stream",
     "text": [
      "[45, 98, 23, 11, 45]\n",
      "[1001, 1002, 1003, 1004, 1005]\n",
      "[98, 23, 11, 45, 98]\n",
      "[98, 23, 11, 45, 98]\n"
     ]
    }
   ],
   "source": [
    "K = scoreList\n",
    "\n",
    "print(K)\n",
    "\n",
    "for i in range(0,4):\n",
    "    scoreList[i] = K[i+1]\n",
    "    \n",
    "scoreList[4] = K[0]\n",
    "\n",
    "print(numberList)\n",
    "print(scoreList)\n",
    "print(K)"
   ]
  },
  {
   "cell_type": "code",
   "execution_count": null,
   "id": "24b86271",
   "metadata": {},
   "outputs": [],
   "source": []
  }
 ],
 "metadata": {
  "kernelspec": {
   "display_name": "Python 3",
   "language": "python",
   "name": "python3"
  },
  "language_info": {
   "codemirror_mode": {
    "name": "ipython",
    "version": 3
   },
   "file_extension": ".py",
   "mimetype": "text/x-python",
   "name": "python",
   "nbconvert_exporter": "python",
   "pygments_lexer": "ipython3",
   "version": "3.8.8"
  }
 },
 "nbformat": 4,
 "nbformat_minor": 5
}
